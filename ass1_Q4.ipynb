{
  "nbformat": 4,
  "nbformat_minor": 0,
  "metadata": {
    "colab": {
      "provenance": []
    },
    "kernelspec": {
      "name": "python3",
      "display_name": "Python 3"
    },
    "language_info": {
      "name": "python"
    }
  },
  "cells": [
    {
      "cell_type": "code",
      "execution_count": null,
      "metadata": {
        "id": "OMDdEoPjTIxt"
      },
      "outputs": [],
      "source": [
        "import os\n",
        "import matplotlib.pyplot as plt\n",
        "import numpy as np\n",
        "from scipy.stats import multivariate_normal\n",
        "import math\n",
        "%matplotlib inline"
      ]
    },
    {
      "cell_type": "code",
      "source": [
        "X = np.loadtxt('/content/drive/MyDrive/ML IITD/ass1/Q4/q4x.dat')\n",
        "print(X[1:6])"
      ],
      "metadata": {
        "colab": {
          "base_uri": "https://localhost:8080/"
        },
        "id": "0OPnV3kYBJfx",
        "outputId": "e9a9266a-acd5-44df-84ba-18d529ccedb4"
      },
      "execution_count": null,
      "outputs": [
        {
          "output_type": "stream",
          "name": "stdout",
          "text": [
            "[[131. 355.]\n",
            " [105. 469.]\n",
            " [ 86. 506.]\n",
            " [ 99. 402.]\n",
            " [ 87. 423.]]\n"
          ]
        }
      ]
    },
    {
      "cell_type": "code",
      "source": [
        "Y = np.loadtxt('/content/drive/MyDrive/ML IITD/ass1/Q4/q4y.dat', dtype=str).reshape(-1,1)\n",
        "print(Y)"
      ],
      "metadata": {
        "colab": {
          "base_uri": "https://localhost:8080/"
        },
        "id": "7N1_iObhBU3H",
        "outputId": "50482521-f568-4ba3-a92b-cf55d688f6e9"
      },
      "execution_count": null,
      "outputs": [
        {
          "output_type": "stream",
          "name": "stdout",
          "text": [
            "[['Alaska']\n",
            " ['Alaska']\n",
            " ['Alaska']\n",
            " ['Alaska']\n",
            " ['Alaska']\n",
            " ['Alaska']\n",
            " ['Alaska']\n",
            " ['Alaska']\n",
            " ['Alaska']\n",
            " ['Alaska']\n",
            " ['Alaska']\n",
            " ['Alaska']\n",
            " ['Alaska']\n",
            " ['Alaska']\n",
            " ['Alaska']\n",
            " ['Alaska']\n",
            " ['Alaska']\n",
            " ['Alaska']\n",
            " ['Alaska']\n",
            " ['Alaska']\n",
            " ['Alaska']\n",
            " ['Alaska']\n",
            " ['Alaska']\n",
            " ['Alaska']\n",
            " ['Alaska']\n",
            " ['Alaska']\n",
            " ['Alaska']\n",
            " ['Alaska']\n",
            " ['Alaska']\n",
            " ['Alaska']\n",
            " ['Alaska']\n",
            " ['Alaska']\n",
            " ['Alaska']\n",
            " ['Alaska']\n",
            " ['Alaska']\n",
            " ['Alaska']\n",
            " ['Alaska']\n",
            " ['Alaska']\n",
            " ['Alaska']\n",
            " ['Alaska']\n",
            " ['Alaska']\n",
            " ['Alaska']\n",
            " ['Alaska']\n",
            " ['Alaska']\n",
            " ['Alaska']\n",
            " ['Alaska']\n",
            " ['Alaska']\n",
            " ['Alaska']\n",
            " ['Alaska']\n",
            " ['Alaska']\n",
            " ['Canada']\n",
            " ['Canada']\n",
            " ['Canada']\n",
            " ['Canada']\n",
            " ['Canada']\n",
            " ['Canada']\n",
            " ['Canada']\n",
            " ['Canada']\n",
            " ['Canada']\n",
            " ['Canada']\n",
            " ['Canada']\n",
            " ['Canada']\n",
            " ['Canada']\n",
            " ['Canada']\n",
            " ['Canada']\n",
            " ['Canada']\n",
            " ['Canada']\n",
            " ['Canada']\n",
            " ['Canada']\n",
            " ['Canada']\n",
            " ['Canada']\n",
            " ['Canada']\n",
            " ['Canada']\n",
            " ['Canada']\n",
            " ['Canada']\n",
            " ['Canada']\n",
            " ['Canada']\n",
            " ['Canada']\n",
            " ['Canada']\n",
            " ['Canada']\n",
            " ['Canada']\n",
            " ['Canada']\n",
            " ['Canada']\n",
            " ['Canada']\n",
            " ['Canada']\n",
            " ['Canada']\n",
            " ['Canada']\n",
            " ['Canada']\n",
            " ['Canada']\n",
            " ['Canada']\n",
            " ['Canada']\n",
            " ['Canada']\n",
            " ['Canada']\n",
            " ['Canada']\n",
            " ['Canada']\n",
            " ['Canada']\n",
            " ['Canada']\n",
            " ['Canada']\n",
            " ['Canada']\n",
            " ['Canada']]\n"
          ]
        }
      ]
    },
    {
      "cell_type": "code",
      "source": [
        "m=X.shape[0]"
      ],
      "metadata": {
        "id": "jR99ge74BWiA"
      },
      "execution_count": null,
      "outputs": []
    },
    {
      "cell_type": "code",
      "source": [
        "#Normalization of the Input X using the z-score formula. We subtract the mean from every X and then divide it by std deviation of the distribution. \n",
        "mean = np.mean(X, axis=0).reshape(1,-1)\n",
        "std_dev = np.std(X, axis=0).reshape(1,-1) \n",
        "X-= mean \n",
        "X/= std_dev  \n",
        "#used the z score method first computed the sum of (x-mean) for all the values\n",
        "#then divided it by std deviation for all values \n",
        "print(\"Mean after normalization: \",np.mean(X), \"\\n Standard deviation after normalization:\",np.std(X))"
      ],
      "metadata": {
        "colab": {
          "base_uri": "https://localhost:8080/"
        },
        "id": "FlaCdtr5Brij",
        "outputId": "921139a0-6118-4104-f21a-ec21658235cf"
      },
      "execution_count": null,
      "outputs": [
        {
          "output_type": "stream",
          "name": "stdout",
          "text": [
            "Mean after normalization:  1.1102230246251565e-16 \n",
            " Standard deviation after normalization: 0.9999999999999999\n"
          ]
        }
      ]
    },
    {
      "cell_type": "code",
      "source": [
        "#define the classes \n",
        "Y[Y=='Alaska']=1\n",
        "Y[Y=='Canada']=0\n",
        "#  phi= sum of (y^i)/m \n",
        "phi = np.sum([Y=='1'])/m\n",
        "#Will save these classes in different arrays\n",
        "x0=[i for i in range(len(Y)) if Y[i]=='0'] #canada\n",
        "x1=[i for i in range(len(Y)) if Y[i]=='1'] #alaska \n",
        "#the mean of b0th the classes\n",
        "mu0 = (np.mean(X[x0], axis=0)).reshape(1,-1)\n",
        "mu1 = (np.mean(X[x1], axis=0)).reshape(1,-1)"
      ],
      "metadata": {
        "id": "bMA94qVJB1IV"
      },
      "execution_count": null,
      "outputs": []
    },
    {
      "cell_type": "code",
      "source": [
        "#Since it is a binary classifier, we learn two different normal distributions for the two classes with different means and covariance. If the covariance for both the\n",
        "#classes is same, then we get a linear decision boundary otherwise we get a quadratic decision boundary.\n",
        "#Here we are considering that the covariance is same of these 2 classes, so we assume in this case that the means are also same for both the classes \n",
        "def covariance(X, mu0, mu1, Y, flag):\n",
        "  # we initliaze cov as matrix as a 2x2 zero matrix \n",
        "    cov=np.zeros((2,2)) #combine cov of class 1 and 0\n",
        "    cov0=np.zeros((2,2)) #to store the covariance of the class 0\n",
        "    cov1=np.zeros((2,2)) #to store the covariance of the class 1\n",
        "    m = len(X)\n",
        "    class1_count=0; class0_count=0 #to keep the count of number of elements in class 1 and 0 \n",
        "    for i in range(m):\n",
        "        if(Y[i]=='1'):\n",
        "            cov1+=np.dot((X[i:i+1]-mu1).T, (X[i:i+1]-mu1))   # cov= (x-mu)^T.(x-mu)/m \n",
        "            class1_count+=1 #as the cov1 updates the class1_counter updates too \n",
        "        else:\n",
        "            cov0+=np.dot((X[i:i+1]-mu0).T, (X[i:i+1]-mu0))   # cov= (x-mu)^T.(x-mu)/m \n",
        "            class0_count+=1 #as the cov0 updates the class0_counter updates too \n",
        "    cov=(cov0+cov1)/m\n",
        "    cov0/=class0_count\n",
        "    cov1/=class1_count\n",
        "    if (flag==2): return cov\n",
        "    if (flag==1): return cov1\n",
        "    else: return cov0\n",
        "\n",
        "cov = covariance(X, mu0, mu1, Y, 2)"
      ],
      "metadata": {
        "id": "9s6SuH3lB9dh"
      },
      "execution_count": null,
      "outputs": []
    },
    {
      "cell_type": "code",
      "source": [
        "print(\"PHI for class='Alaska' is={}\".format(phi))\n",
        "print(\"Mean of the Distribution for Alaska={}\".format(mu1))\n",
        "print(\"Mean of the Distribution for Canada={}\".format(mu0))\n",
        "print(\"The value of the covariance matrix is = \\n{}\".format(cov))"
      ],
      "metadata": {
        "colab": {
          "base_uri": "https://localhost:8080/"
        },
        "id": "ZxNWXOR2CB2F",
        "outputId": "ace7b2ad-330b-4e62-c0c2-b0d3f0da328a"
      },
      "execution_count": null,
      "outputs": [
        {
          "output_type": "stream",
          "name": "stdout",
          "text": [
            "PHI for class='Alaska' is=0.5\n",
            "Mean of the Distribution for Alaska=[[-0.75529433  0.68509431]]\n",
            "Mean of the Distribution for Canada=[[ 0.75529433 -0.68509431]]\n",
            "The value of the covariance matrix is = \n",
            "[[ 0.42953048 -0.02247228]\n",
            " [-0.02247228  0.53064579]]\n"
          ]
        }
      ]
    },
    {
      "cell_type": "code",
      "source": [
        "#plot the data points\n",
        "plt.figure(1)\n",
        "colors=['y' if l=='0' else 'g' for l in Y] #label y= canada, green= alaska \n",
        "plt.scatter(X[x0][:,0], X[x0][:,1], s = 10, marker='+', c='y',label='Label=Canada')\n",
        "plt.scatter(X[x1][:,0], X[x1][:,1], s = 10, marker='*', c='g',label='Label=Alaska')\n",
        "plt.title(' Data Points Plotting')\n",
        "plt.xlabel('X1')\n",
        "plt.ylabel('X2')\n",
        "plt.legend()\n",
        "plt.show()"
      ],
      "metadata": {
        "colab": {
          "base_uri": "https://localhost:8080/",
          "height": 295
        },
        "id": "-hBmyxyQCFoL",
        "outputId": "610b1a93-e6b8-491e-fe59-9ec811cb0806"
      },
      "execution_count": null,
      "outputs": [
        {
          "output_type": "display_data",
          "data": {
            "text/plain": [
              "<Figure size 432x288 with 1 Axes>"
            ],
            "image/png": "[encoded data removed]"
          },
          "metadata": {
            "needs_background": "light"
          }
        }
      ]
    },
    {
      "cell_type": "code",
      "source": [
        "#we will define the linear parameters needed to calculate the descison boundary and generate our data valuw with these cov and means values \n",
        "##https://towardsdatascience.com/gaussian-discriminant-analysis-an-example-of-generative-learning-algorithms-2e336ba7aa5c\n",
        "cov_inv = np.linalg.inv(cov)\n",
        "temp = math.log(phi/(1-phi)) \n",
        "c = (1/2)*((np.dot(np.dot(mu1, cov_inv), mu1.T)) - (np.dot(np.dot(mu0, cov_inv), mu0.T))) \n",
        "m = np.dot(cov_inv, (mu1-mu0).T)   \n",
        "x_values = np.array([np.min(X[:, 1] -1 ), np.max(X[:, 1] +1 )]).reshape(1,-1) #value of x features\n",
        "y = np.dot((-1./m[0:1]),np.dot(m[1:2], x_values)) - c"
      ],
      "metadata": {
        "id": "mKXSJIm0CJ-0"
      },
      "execution_count": null,
      "outputs": []
    },
    {
      "cell_type": "code",
      "source": [
        "#Plotting the linear boundary\n",
        "#If the covariance for both the classes is same, then we get a linear decision boundary\n",
        "plt.figure(1)\n",
        "colors=['y' if l=='0' else 'g' for l in Y]\n",
        "plt.scatter(X[x0][:,0], X[x0][:,1], s = 8, marker='+', c='y',label='Canada')\n",
        "plt.scatter(X[x1][:,0], X[x1][:,1], s = 8, marker='*', c='g',label='Alaska')\n",
        "plt.title(' Decision Boundary')\n",
        "plt.xlabel('X1')\n",
        "plt.ylabel('X2')\n",
        "plt.plot(x_values.ravel(), y.ravel(), c='k',label='Linear Decison Boundary')\n",
        "plt.legend()\n",
        "plt.show(block=False)"
      ],
      "metadata": {
        "colab": {
          "base_uri": "https://localhost:8080/",
          "height": 295
        },
        "id": "OYFYDZYvCO6f",
        "outputId": "7985dc77-d5b2-4c72-c393-d74ba55ec8ae"
      },
      "execution_count": null,
      "outputs": [
        {
          "output_type": "display_data",
          "data": {
            "text/plain": [
              "<Figure size 432x288 with 1 Axes>"
            ],
            "image/png": "[encoded data removed]"
          },
          "metadata": {
            "needs_background": "light"
          }
        }
      ]
    },
    {
      "cell_type": "code",
      "source": [
        "# for Separate Covariance Matrices the linear separator becomes quadratic\n",
        "cov0 = covariance(X, mu0, mu1, Y, 0) #now we have to calculate each of them separately \n",
        "cov1 = covariance(X, mu0, mu1, Y, 1)\n",
        "print(\"The value of the covariance matrix for label='Alaska' is = \\n{}\".format(cov1))\n",
        "print(\"The value of the covariance matrix for label='Canada' is = \\n{}\".format(cov0))"
      ],
      "metadata": {
        "colab": {
          "base_uri": "https://localhost:8080/"
        },
        "id": "M6RNatX6CS_-",
        "outputId": "6c61f683-71e7-4b5a-e74d-bbc0ff7c6dd1"
      },
      "execution_count": null,
      "outputs": [
        {
          "output_type": "stream",
          "name": "stdout",
          "text": [
            "The value of the covariance matrix for label='Alaska' is = \n",
            "[[ 0.38158978 -0.15486516]\n",
            " [-0.15486516  0.64773717]]\n",
            "The value of the covariance matrix for label='Canada' is = \n",
            "[[0.47747117 0.1099206 ]\n",
            " [0.1099206  0.41355441]]\n"
          ]
        }
      ]
    },
    {
      "cell_type": "code",
      "source": [
        "# to generate the equation for the quadratic boundary separating the two regions we will define these parameters \n",
        "cov0_inv = np.linalg.inv(cov0)\n",
        "cov1_inv = np.linalg.inv(cov1)\n",
        "cov0_det = np.linalg.det(cov0)  #  to compute the determinant of the given square array\n",
        "cov1_det = np.linalg.det(cov1)\n",
        "temp = math.log(phi/(1-phi))\n",
        "#therse are directly imputed in the quadratic decison boundary formula \n",
        "a = cov1_inv - cov0_inv\n",
        "b = 2* (np.dot(cov1_inv, mu1.T) - np.dot(cov0_inv,mu0.T))\n",
        "d = np.dot(np.dot(mu1, cov1_inv),mu1.T) - np.dot(np.dot(mu0, cov0_inv),mu0.T)- math.log(cov0_det/cov1_det)"
      ],
      "metadata": {
        "id": "O8DImw9jS4cU"
      },
      "execution_count": null,
      "outputs": []
    },
    {
      "cell_type": "code",
      "source": [
        "x1_val= np.linspace((np.min(X[:,1])-1), (np.max(X[:,1])+1), 100) #generating values for X axis where feature X1 is placed \n",
        "c1 = a[1,1]\n",
        "x2_val = [] \n",
        "for i in range(len(x1_val)):\n",
        "    temp2 = (a[0,0]*(x1_val[i]**2)) - (b[0,0]*x1_val[i]) + d[0,0] #quadratic equation of order 2 \n",
        "    temp3 = ((a[0,1]+a[1,0])*x1_val[i]) - b[1,0]  #linear eqaution\n",
        "    x2_val.append(np.roots([c1, temp3, temp2]))  # contains roots of the quadratic and linear separator equations \n",
        "\n",
        "y_theta0= [(x2_val[i][0]) for i in range(len(x2_val))] #storing the theta for feature 0\n",
        "y_theta1= [(x2_val[i][1]) for i in range(len(x2_val))] # storing the theta for feature 1"
      ],
      "metadata": {
        "id": "jklhmAxJCgqr"
      },
      "execution_count": null,
      "outputs": []
    },
    {
      "cell_type": "code",
      "source": [
        "#plotting of the qudratic decision boundary \n",
        "plt.figure(2)\n",
        "plt.scatter(X[x0][:,0], X[x0][:,1], s = 8, marker='+', c='y',label='Canada')\n",
        "plt.scatter(X[x1][:,0], X[x1][:,1], s = 8, marker='*', c='g',label='Alaska')\n",
        "plt.plot(x_values.ravel(), y.ravel(), c='g',label='Linear DB')\n",
        "plt.title('Linear and Quadratic Decision Boundary')\n",
        "plt.xlabel('X1')\n",
        "plt.ylabel('X2')\n",
        "plt.scatter(x1_val,y_theta0, c='r',s=4,label='Quadradit DB')  #to generate quadratic boundary using theta and x\n",
        "plt.scatter(x1_val,y_theta1, c='r',s=4,label='')\n",
        "plt.ylim(bottom=-4)\n",
        "plt.ylim(top=6)\n",
        "plt.legend()\n",
        "plt.show()"
      ],
      "metadata": {
        "colab": {
          "base_uri": "https://localhost:8080/",
          "height": 295
        },
        "id": "8ddzgx32CjPo",
        "outputId": "f209cb93-8e65-4e4e-a80d-168204566b47"
      },
      "execution_count": null,
      "outputs": [
        {
          "output_type": "display_data",
          "data": {
            "text/plain": [
              "<Figure size 432x288 with 1 Axes>"
            ],
            "image/png": "[encoded data removed]"
          },
          "metadata": {
            "needs_background": "light"
          }
        }
      ]
    }
  ]
}